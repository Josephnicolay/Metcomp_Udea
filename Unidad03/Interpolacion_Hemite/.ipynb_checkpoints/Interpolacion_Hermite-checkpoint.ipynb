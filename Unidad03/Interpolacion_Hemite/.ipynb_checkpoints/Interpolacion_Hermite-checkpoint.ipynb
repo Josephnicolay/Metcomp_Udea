{
 "cells": [
  {
   "cell_type": "markdown",
   "metadata": {},
   "source": [
    "# Interpolación de Hermite vía diferencias dividas"
   ]
  },
  {
   "cell_type": "code",
   "execution_count": 5,
   "metadata": {},
   "outputs": [],
   "source": [
    "import math as m\n",
    "import numpy as np\n",
    "import matplotlib.pyplot as plt"
   ]
  },
  {
   "cell_type": "code",
   "execution_count": 11,
   "metadata": {},
   "outputs": [],
   "source": [
    "x_list=[1.3,1.6,1.9]\n",
    "y_list=[0.6200860,0.4554022,0.2818186]\n",
    "dydx_list=[-0.5220232,-0.5698959,-0.5811571]\n"
   ]
  },
  {
   "cell_type": "code",
   "execution_count": 16,
   "metadata": {},
   "outputs": [
    {
     "name": "stdout",
     "output_type": "stream",
     "text": [
      "1.0019440646910471\n"
     ]
    }
   ],
   "source": [
    "def polyHermite(x_list,y_list,dydx_list,x):\n",
    "    \n",
    "    #Numero total de puntos \n",
    "    n=len(x_list)\n",
    "    \n",
    "    #Generando la lista y la matriz de ceros \n",
    "    z=np.zeros(2*n)\n",
    "    Q=np.zeros((2*n,2*n))\n",
    "    \n",
    "    \n",
    "    for i in range (0,len(z)):\n",
    "        z[i]=x_list[int(i/2)]\n",
    "    \n",
    "    for i in range (0,2*n):\n",
    "        for j in range(0,2*n):\n",
    "            if i==j:\n",
    "                Q[i][j]=y_list[int(i/2)]\n",
    "            else:\n",
    "                continue\n",
    "    for k in range(1,2*n):\n",
    "        for i in range(0,2*n-1):\n",
    "            for j in range(1,2*n):\n",
    "                if j!=i and j==k+i and z[j]!=z[i]:\n",
    "                    Q[i][j]=(Q[i+1][j]-Q[i][j-1])/(z[j]-z[i])\n",
    "                elif j!=i and j==k+i and z[j]==z[i]:\n",
    "                     Q[i][j]=dydx_list[int(i/2)]\n",
    "    \n",
    "    n=len(x_list)-1\n",
    "    sum=Q[0][0]\n",
    "    for i in range(1,2*len(x_list)):\n",
    "        \n",
    "        prod=1\n",
    "        for j in range(0,i):\n",
    "            prod = prod*(x-z[j])\n",
    "            \n",
    "        sum = sum + Q[0][i]*prod \n",
    "                        \n",
    "    return sum\n",
    "      \n",
    "print(polyHermite(x_list,y_list,dydx_list,0))      \n",
    "      \n",
    "      \n",
    "      "
   ]
  },
  {
   "cell_type": "code",
   "execution_count": 18,
   "metadata": {},
   "outputs": [
    {
     "data": {
      "image/png": "[encoded data removed]",
      "text/plain": [
       "<matplotlib.figure.Figure at 0x7fd6e9b627f0>"
      ]
     },
     "metadata": {},
     "output_type": "display_data"
    }
   ],
   "source": []
  },
  {
   "cell_type": "code",
   "execution_count": 12,
   "metadata": {},
   "outputs": [
    {
     "name": "stdout",
     "output_type": "stream",
     "text": [
      "1.3\n",
      "1.6\n",
      "1.9\n",
      "2.2\n"
     ]
    }
   ],
   "source": [
    "for i in range(1,len(x_list)):\n",
    "    print(x_list[i])"
   ]
  },
  {
   "cell_type": "code",
   "execution_count": null,
   "metadata": {
    "collapsed": true
   },
   "outputs": [],
   "source": []
  }
 ],
 "metadata": {
  "kernelspec": {
   "display_name": "Python 3",
   "language": "python",
   "name": "python3"
  },
  "language_info": {
   "codemirror_mode": {
    "name": "ipython",
    "version": 3
   },
   "file_extension": ".py",
   "mimetype": "text/x-python",
   "name": "python",
   "nbconvert_exporter": "python",
   "pygments_lexer": "ipython3",
   "version": "3.6.6"
  }
 },
 "nbformat": 4,
 "nbformat_minor": 2
}
