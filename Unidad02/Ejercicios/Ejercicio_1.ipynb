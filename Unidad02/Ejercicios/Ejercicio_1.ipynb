{
 "cells": [
  {
   "cell_type": "code",
   "execution_count": 1,
   "metadata": {
    "collapsed": true
   },
   "outputs": [],
   "source": [
    "import math as m\n",
    "import numpy as np\n"
   ]
  },
  {
   "cell_type": "code",
   "execution_count": 31,
   "metadata": {
    "collapsed": true
   },
   "outputs": [],
   "source": [
    "#Encontrando la raíz a una función para ley de los gases reales"
   ]
  },
  {
   "cell_type": "code",
   "execution_count": 32,
   "metadata": {
    "collapsed": true
   },
   "outputs": [],
   "source": [
    "def f(v):\n",
    "    P=10.0\n",
    "    T=353.2\n",
    "    R=0.08205\n",
    "    a=3.599\n",
    "    b=0.04267\n",
    "    value = P*(v**3)-(P*b+R*T)*(v**2)+a*v-a*b\n",
    "    return value\n",
    "def dfdv(v):\n",
    "    P=10.0\n",
    "    T=353.2\n",
    "    R=0.08205\n",
    "    a=3.599\n",
    "    b=0.04267\n",
    "    value = 3*P*(v**2)-2*(P*b+R*T)*(v)+a\n",
    "    return value"
   ]
  },
  {
   "cell_type": "code",
   "execution_count": 33,
   "metadata": {},
   "outputs": [
    {
     "name": "stdout",
     "output_type": "stream",
     "text": [
      "p_n=7.1210338532073152\t error=5.1210338532073152\t abs(f(p))=2145.2978429215750111\t \n",
      "\n",
      "p_n=5.1814477855609615\t error=1.9395860676463537\t abs(f(p))=620.0834514765165295\t \n",
      "\n",
      "p_n=3.9518111261743929\t error=1.2296366593865686\t abs(f(p))=171.9760623116295903\t \n",
      "\n",
      "p_n=3.2342977177836962\t error=0.7175134083906967\t abs(f(p))=42.2015015357719889\t \n",
      "\n",
      "p_n=2.9025223464210237\t error=0.3317753713626725\t abs(f(p))=7.0783021709235090\t \n",
      "\n",
      "p_n=2.8198613755785504\t error=0.0826609708424733\t abs(f(p))=0.3883941241573721\t \n",
      "\n",
      "p_n=2.8147711249531477\t error=0.0050902506254027\t abs(f(p))=0.0014286661302537\t \n",
      "\n",
      "p_n=2.8147522623077723\t error=0.0000188626453754\t abs(f(p))=0.0000000195818862\t \n",
      "\n",
      "p_n=2.8147522620492262\t error=0.0000000002585461\t abs(f(p))=0.0000000000000268\t \n",
      "\n",
      "p_n=2.8147522620492267\t error=0.0000000000000004\t abs(f(p))=0.0000000000000318\t \n",
      "\n"
     ]
    }
   ],
   "source": [
    "#aplican el método de Newton - Raphson se encontrará la raíz a la función f(v)\n",
    "p_prev=2.0\n",
    "error=1.0\n",
    "Nmax=1000\n",
    "tol=1e-15\n",
    "iteration=0\n",
    "while(error>tol):\n",
    "    p=p_prev - f(p_prev)/dfdv(p_prev)\n",
    "    error = abs(p-p_prev)\n",
    "    p_prev=p\n",
    "    iteration=iteration +1\n",
    "    if (iteration>Nmax):\n",
    "        print(\"El metodo no converge despues de %d iteraciones\"%(Nmax))\n",
    "        break\n",
    "\n",
    "    print(\"p_n=%.16f\\t error=%.16f\\t abs(f(p))=%.16f\\t \\n\" %(p,error,abs(f(p))))"
   ]
  },
  {
   "cell_type": "code",
   "execution_count": null,
   "metadata": {
    "collapsed": true
   },
   "outputs": [],
   "source": []
  }
 ],
 "metadata": {
  "kernelspec": {
   "display_name": "Python 3",
   "language": "python",
   "name": "python3"
  },
  "language_info": {
   "codemirror_mode": {
    "name": "ipython",
    "version": 3
   },
   "file_extension": ".py",
   "mimetype": "text/x-python",
   "name": "python",
   "nbconvert_exporter": "python",
   "pygments_lexer": "ipython3",
   "version": "3.6.3"
  }
 },
 "nbformat": 4,
 "nbformat_minor": 2
}
