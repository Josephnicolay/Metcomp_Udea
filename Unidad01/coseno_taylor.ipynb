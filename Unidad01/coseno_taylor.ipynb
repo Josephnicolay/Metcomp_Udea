{
 "cells": [
  {
   "cell_type": "markdown",
   "metadata": {},
   "source": [
    "# Rutina para el calculo de la funcion coseno\n",
    "La expansion de taylot para la funcion coseno es\n",
    "$$\n",
    "\\begin{equation}\n",
    "\\displaystyle\\cos\\theta = \\sum_{n=0}^{\\infty} \\frac{(-1)^n \\theta^{2n}}{(2n)!}\n",
    "\\end{equation}\n",
    "$$\n"
   ]
  },
  {
   "cell_type": "code",
   "execution_count": 7,
   "metadata": {
    "collapsed": true
   },
   "outputs": [],
   "source": [
    "def factorial(x):\n",
    "    if x==0:\n",
    "        return 1\n",
    "    else:\n",
    "        value=1\n",
    "        for i in range(1,x+1):\n",
    "            value=value*i\n",
    "        return value"
   ]
  },
  {
   "cell_type": "code",
   "execution_count": 8,
   "metadata": {
    "scrolled": false
   },
   "outputs": [
    {
     "name": "stdout",
     "output_type": "stream",
     "text": [
      "120\n"
     ]
    }
   ],
   "source": [
    "print(factorial(5))"
   ]
  },
  {
   "cell_type": "markdown",
   "metadata": {},
   "source": [
    "# La funcion coseno"
   ]
  },
  {
   "cell_type": "code",
   "execution_count": 13,
   "metadata": {
    "collapsed": true
   },
   "outputs": [],
   "source": [
    "def coseno_taylor(x,N):\n",
    "    sum=0\n",
    "    for n in range(0,N+1):\n",
    "        sum = sum + (-1)**n * x**(2*n) / factorial(2*n)\n",
    "    return sum"
   ]
  },
  {
   "cell_type": "code",
   "execution_count": 16,
   "metadata": {
    "collapsed": true
   },
   "outputs": [],
   "source": [
    "import numpy as np\n",
    "import matplotlib.pyplot as plt"
   ]
  },
  {
   "cell_type": "code",
   "execution_count": 40,
   "metadata": {
    "collapsed": true
   },
   "outputs": [],
   "source": [
    "theta=[]\n",
    "costheta=[]\n",
    "\n",
    "Npoints=100\n",
    "dtheta=(2.0*np.pi-0.0)/Npoints\n",
    "\n",
    "for i in range(0,Npoints):\n",
    "    theta.append(i*dtheta)\n",
    "    costheta.append(coseno_taylor(i*dtheta,))"
   ]
  },
  {
   "cell_type": "markdown",
   "metadata": {},
   "source": [
    "# Graficacion"
   ]
  },
  {
   "cell_type": "code",
   "execution_count": 41,
   "metadata": {},
   "outputs": [
    {
     "data": {
      "image/png": "[encoded data removed]",
      "text/plain": [
       "<matplotlib.figure.Figure at 0x7f7bebdaed30>"
      ]
     },
     "metadata": {},
     "output_type": "display_data"
    }
   ],
   "source": [
    "fig=plt.figure()#abrir figura\n",
    "ax=plt.axes()#pseudonimo\n",
    "ax.plot(theta,costheta, '.')#datos\n",
    "ax.plot(theta,np.cos(theta),'.')\n",
    "ax.grid()#rendija\n",
    "ax.set_xlabel(r\"$\\theta$\", fontsize=14)#nombre del eje\n",
    "ax.set_ylabel(r\"$\\cos(\\theta)$\", fontsize=14)\n",
    "plt.show()"
   ]
  }
 ],
 "metadata": {
  "kernelspec": {
   "display_name": "Python 3",
   "language": "python",
   "name": "python3"
  },
  "language_info": {
   "codemirror_mode": {
    "name": "ipython",
    "version": 3
   },
   "file_extension": ".py",
   "mimetype": "text/x-python",
   "name": "python",
   "nbconvert_exporter": "python",
   "pygments_lexer": "ipython3",
   "version": "3.6.5"
  }
 },
 "nbformat": 4,
 "nbformat_minor": 2
}
